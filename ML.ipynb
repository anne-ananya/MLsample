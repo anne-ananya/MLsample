{
  "nbformat": 4,
  "nbformat_minor": 0,
  "metadata": {
    "colab": {
      "provenance": [],
      "authorship_tag": "ABX9TyMtpqqk2+k1hUJyTHpAk/Wf",
      "include_colab_link": true
    },
    "kernelspec": {
      "name": "python3",
      "display_name": "Python 3"
    },
    "language_info": {
      "name": "python"
    }
  },
  "cells": [
    {
      "cell_type": "markdown",
      "metadata": {
        "id": "view-in-github",
        "colab_type": "text"
      },
      "source": [
        "<a href=\"https://colab.research.google.com/github/anne-ananya/MLsample/blob/main/ML.ipynb\" target=\"_parent\"><img src=\"https://colab.research.google.com/assets/colab-badge.svg\" alt=\"Open In Colab\"/></a>"
      ]
    },
    {
      "cell_type": "code",
      "execution_count": 5,
      "metadata": {
        "colab": {
          "base_uri": "https://localhost:8080/"
        },
        "id": "kMqrDz1TDCLH",
        "outputId": "253df538-7c6f-499f-c900-2157578206ec"
      },
      "outputs": [
        {
          "output_type": "stream",
          "name": "stdout",
          "text": [
            "Mounted at /content/drive\n"
          ]
        }
      ],
      "source": [
        "from google.colab import drive\n",
        "import pandas as pd\n",
        "import numpy as np\n",
        "import matplotlib.pyplot as plt\n",
        "import seaborn as sns\n",
        "from datetime import datetime\n",
        "\n",
        "\n",
        "# Mount Google Drive\n",
        "drive.mount('/content/drive')\n",
        "\n",
        "# Define file paths\n",
        "customers_path = '/content/drive/MyDrive/Customers.csv'\n",
        "products_path = '/content/drive/MyDrive/Products.csv'\n",
        "transactions_path = '/content/drive/MyDrive/Transactions.csv'\n",
        "\n",
        "# Load the CSV files into Pandas DataFrames\n",
        "customers = pd.read_csv(customers_path)\n",
        "products = pd.read_csv(products_path)\n",
        "transactions = pd.read_csv(transactions_path)"
      ]
    },
    {
      "cell_type": "code",
      "source": [
        "print(\"Customers Data:\")\n",
        "print(customers.info())\n",
        "print(customers.head())"
      ],
      "metadata": {
        "colab": {
          "base_uri": "https://localhost:8080/"
        },
        "id": "YPAhpCSCEoCD",
        "outputId": "4c96efc2-fad7-4556-bef5-c9be8dc615be"
      },
      "execution_count": 6,
      "outputs": [
        {
          "output_type": "stream",
          "name": "stdout",
          "text": [
            "Customers Data:\n",
            "<class 'pandas.core.frame.DataFrame'>\n",
            "RangeIndex: 200 entries, 0 to 199\n",
            "Data columns (total 4 columns):\n",
            " #   Column        Non-Null Count  Dtype \n",
            "---  ------        --------------  ----- \n",
            " 0   CustomerID    200 non-null    object\n",
            " 1   CustomerName  200 non-null    object\n",
            " 2   Region        200 non-null    object\n",
            " 3   SignupDate    200 non-null    object\n",
            "dtypes: object(4)\n",
            "memory usage: 6.4+ KB\n",
            "None\n",
            "  CustomerID        CustomerName         Region  SignupDate\n",
            "0      C0001    Lawrence Carroll  South America  2022-07-10\n",
            "1      C0002      Elizabeth Lutz           Asia  2022-02-13\n",
            "2      C0003      Michael Rivera  South America  2024-03-07\n",
            "3      C0004  Kathleen Rodriguez  South America  2022-10-09\n",
            "4      C0005         Laura Weber           Asia  2022-08-15\n"
          ]
        }
      ]
    },
    {
      "cell_type": "code",
      "source": [
        "print(\"\\nProducts Data:\")\n",
        "print(products.info())\n",
        "print(products.head())"
      ],
      "metadata": {
        "colab": {
          "base_uri": "https://localhost:8080/"
        },
        "id": "nTIUZm8VEqBh",
        "outputId": "71c15354-6ffa-4862-be7f-9379229c6e26"
      },
      "execution_count": 7,
      "outputs": [
        {
          "output_type": "stream",
          "name": "stdout",
          "text": [
            "\n",
            "Products Data:\n",
            "<class 'pandas.core.frame.DataFrame'>\n",
            "RangeIndex: 100 entries, 0 to 99\n",
            "Data columns (total 4 columns):\n",
            " #   Column       Non-Null Count  Dtype  \n",
            "---  ------       --------------  -----  \n",
            " 0   ProductID    100 non-null    object \n",
            " 1   ProductName  100 non-null    object \n",
            " 2   Category     100 non-null    object \n",
            " 3   Price        100 non-null    float64\n",
            "dtypes: float64(1), object(3)\n",
            "memory usage: 3.3+ KB\n",
            "None\n",
            "  ProductID              ProductName     Category   Price\n",
            "0      P001     ActiveWear Biography        Books  169.30\n",
            "1      P002    ActiveWear Smartwatch  Electronics  346.30\n",
            "2      P003  ComfortLiving Biography        Books   44.12\n",
            "3      P004            BookWorld Rug   Home Decor   95.69\n",
            "4      P005          TechPro T-Shirt     Clothing  429.31\n"
          ]
        }
      ]
    },
    {
      "cell_type": "code",
      "source": [
        "\n",
        "print(\"\\nTransactions Data:\")\n",
        "print(transactions.info())\n",
        "print(transactions.head())\n"
      ],
      "metadata": {
        "colab": {
          "base_uri": "https://localhost:8080/"
        },
        "id": "1xPWQ7lgExhW",
        "outputId": "491e73f7-1409-41cd-c1f5-1f5acef0fcd6"
      },
      "execution_count": 8,
      "outputs": [
        {
          "output_type": "stream",
          "name": "stdout",
          "text": [
            "\n",
            "Transactions Data:\n",
            "<class 'pandas.core.frame.DataFrame'>\n",
            "RangeIndex: 1000 entries, 0 to 999\n",
            "Data columns (total 7 columns):\n",
            " #   Column           Non-Null Count  Dtype  \n",
            "---  ------           --------------  -----  \n",
            " 0   TransactionID    1000 non-null   object \n",
            " 1   CustomerID       1000 non-null   object \n",
            " 2   ProductID        1000 non-null   object \n",
            " 3   TransactionDate  1000 non-null   object \n",
            " 4   Quantity         1000 non-null   int64  \n",
            " 5   TotalValue       1000 non-null   float64\n",
            " 6   Price            1000 non-null   float64\n",
            "dtypes: float64(2), int64(1), object(4)\n",
            "memory usage: 54.8+ KB\n",
            "None\n",
            "  TransactionID CustomerID ProductID      TransactionDate  Quantity  \\\n",
            "0        T00001      C0199      P067  2024-08-25 12:38:23         1   \n",
            "1        T00112      C0146      P067  2024-05-27 22:23:54         1   \n",
            "2        T00166      C0127      P067   2024-04-25 7:38:55         1   \n",
            "3        T00272      C0087      P067  2024-03-26 22:55:37         2   \n",
            "4        T00363      C0070      P067  2024-03-21 15:10:10         3   \n",
            "\n",
            "   TotalValue   Price  \n",
            "0      300.68  300.68  \n",
            "1      300.68  300.68  \n",
            "2      300.68  300.68  \n",
            "3      601.36  300.68  \n",
            "4      902.04  300.68  \n"
          ]
        }
      ]
    },
    {
      "cell_type": "code",
      "source": [
        "print(\"\\nMissing Values in Customers Data:\")\n",
        "print(customers.isnull().sum())\n"
      ],
      "metadata": {
        "colab": {
          "base_uri": "https://localhost:8080/"
        },
        "id": "3ZeCXmsEEzWp",
        "outputId": "bc4c1671-2e53-4837-c2a7-704eb2b19c1b"
      },
      "execution_count": 9,
      "outputs": [
        {
          "output_type": "stream",
          "name": "stdout",
          "text": [
            "\n",
            "Missing Values in Customers Data:\n",
            "CustomerID      0\n",
            "CustomerName    0\n",
            "Region          0\n",
            "SignupDate      0\n",
            "dtype: int64\n"
          ]
        }
      ]
    },
    {
      "cell_type": "code",
      "source": [
        "print(\"\\nMissing Values in Products Data:\")\n",
        "print(products.isnull().sum())"
      ],
      "metadata": {
        "colab": {
          "base_uri": "https://localhost:8080/"
        },
        "id": "AgjelWLAE5iB",
        "outputId": "834edc0a-ef0a-444a-de40-1fd9aae58665"
      },
      "execution_count": 10,
      "outputs": [
        {
          "output_type": "stream",
          "name": "stdout",
          "text": [
            "\n",
            "Missing Values in Products Data:\n",
            "ProductID      0\n",
            "ProductName    0\n",
            "Category       0\n",
            "Price          0\n",
            "dtype: int64\n"
          ]
        }
      ]
    },
    {
      "cell_type": "code",
      "source": [
        "print(\"\\nMissing Values in Transactions Data:\")\n",
        "print(transactions.isnull().sum())"
      ],
      "metadata": {
        "colab": {
          "base_uri": "https://localhost:8080/"
        },
        "id": "0k80uUjoE_up",
        "outputId": "ffe7feb4-1d28-473e-ec52-1fc25d5e46be"
      },
      "execution_count": 11,
      "outputs": [
        {
          "output_type": "stream",
          "name": "stdout",
          "text": [
            "\n",
            "Missing Values in Transactions Data:\n",
            "TransactionID      0\n",
            "CustomerID         0\n",
            "ProductID          0\n",
            "TransactionDate    0\n",
            "Quantity           0\n",
            "TotalValue         0\n",
            "Price              0\n",
            "dtype: int64\n"
          ]
        }
      ]
    },
    {
      "cell_type": "code",
      "source": [
        "# Merge Transactions with Customers on CustomerID\n",
        "merged_data = pd.merge(transactions, customers, on='CustomerID', how='left')"
      ],
      "metadata": {
        "id": "jh-Ib7ewFU1V"
      },
      "execution_count": 12,
      "outputs": []
    },
    {
      "cell_type": "code",
      "source": [
        "# Merge the result with Products on ProductID\n",
        "merged_data = pd.merge(merged_data, products, on='ProductID', how='left')"
      ],
      "metadata": {
        "id": "VhXzJ91gFZoQ"
      },
      "execution_count": 13,
      "outputs": []
    },
    {
      "cell_type": "code",
      "source": [
        "# Display merged data\n",
        "print(\"\\nMerged Data:\")\n",
        "print(merged_data.head())"
      ],
      "metadata": {
        "colab": {
          "base_uri": "https://localhost:8080/"
        },
        "id": "8wera8vcFcYL",
        "outputId": "75ec4919-50c5-4f59-b501-5433c90d4fb0"
      },
      "execution_count": 14,
      "outputs": [
        {
          "output_type": "stream",
          "name": "stdout",
          "text": [
            "\n",
            "Merged Data:\n",
            "  TransactionID CustomerID ProductID      TransactionDate  Quantity  \\\n",
            "0        T00001      C0199      P067  2024-08-25 12:38:23         1   \n",
            "1        T00112      C0146      P067  2024-05-27 22:23:54         1   \n",
            "2        T00166      C0127      P067   2024-04-25 7:38:55         1   \n",
            "3        T00272      C0087      P067  2024-03-26 22:55:37         2   \n",
            "4        T00363      C0070      P067  2024-03-21 15:10:10         3   \n",
            "\n",
            "   TotalValue  Price_x     CustomerName         Region  SignupDate  \\\n",
            "0      300.68   300.68   Andrea Jenkins         Europe  2022-12-03   \n",
            "1      300.68   300.68  Brittany Harvey           Asia  2024-09-04   \n",
            "2      300.68   300.68  Kathryn Stevens         Europe  2024-04-04   \n",
            "3      601.36   300.68  Travis Campbell  South America  2024-04-11   \n",
            "4      902.04   300.68    Timothy Perez         Europe  2022-03-15   \n",
            "\n",
            "                       ProductName     Category  Price_y  \n",
            "0  ComfortLiving Bluetooth Speaker  Electronics   300.68  \n",
            "1  ComfortLiving Bluetooth Speaker  Electronics   300.68  \n",
            "2  ComfortLiving Bluetooth Speaker  Electronics   300.68  \n",
            "3  ComfortLiving Bluetooth Speaker  Electronics   300.68  \n",
            "4  ComfortLiving Bluetooth Speaker  Electronics   300.68  \n"
          ]
        }
      ]
    },
    {
      "cell_type": "code",
      "source": [
        "# Convert TransactionDate and SignupDate to datetime\n",
        "merged_data['TransactionDate'] = pd.to_datetime(merged_data['TransactionDate'])\n",
        "merged_data['SignupDate'] = pd.to_datetime(merged_data['SignupDate'])"
      ],
      "metadata": {
        "id": "1-WEc1mZFf6c"
      },
      "execution_count": 15,
      "outputs": []
    },
    {
      "cell_type": "code",
      "source": [
        "# Add a new column for transaction month\n",
        "merged_data['TransactionMonth'] = merged_data['TransactionDate'].dt.to_period('M')"
      ],
      "metadata": {
        "id": "Ol_r0GMHFlDr"
      },
      "execution_count": 16,
      "outputs": []
    },
    {
      "cell_type": "code",
      "source": [
        "# Basic statistics\n",
        "print(\"\\nBasic Statistics for Transactions:\")\n",
        "print(merged_data['TotalValue'].describe())"
      ],
      "metadata": {
        "colab": {
          "base_uri": "https://localhost:8080/"
        },
        "id": "sNkA8JolFpVc",
        "outputId": "b5276b4e-ae59-40bf-c3fe-2945fea45c39"
      },
      "execution_count": 17,
      "outputs": [
        {
          "output_type": "stream",
          "name": "stdout",
          "text": [
            "\n",
            "Basic Statistics for Transactions:\n",
            "count    1000.000000\n",
            "mean      689.995560\n",
            "std       493.144478\n",
            "min        16.080000\n",
            "25%       295.295000\n",
            "50%       588.880000\n",
            "75%      1011.660000\n",
            "max      1991.040000\n",
            "Name: TotalValue, dtype: float64\n"
          ]
        }
      ]
    },
    {
      "cell_type": "code",
      "source": [
        "# Total revenue\n",
        "total_revenue = merged_data['TotalValue'].sum()\n",
        "print(f\"\\nTotal Revenue: ${total_revenue:,.2f}\")\n"
      ],
      "metadata": {
        "colab": {
          "base_uri": "https://localhost:8080/"
        },
        "id": "UoW0QflSFvIU",
        "outputId": "d6356603-11a8-4c2b-dfec-b52b75bb5a83"
      },
      "execution_count": 18,
      "outputs": [
        {
          "output_type": "stream",
          "name": "stdout",
          "text": [
            "\n",
            "Total Revenue: $689,995.56\n"
          ]
        }
      ]
    },
    {
      "cell_type": "code",
      "source": [
        "# Revenue by region\n",
        "revenue_by_region = merged_data.groupby('Region')['TotalValue'].sum().sort_values(ascending=False)\n",
        "print(\"\\nRevenue by Region:\")\n",
        "print(revenue_by_region)\n"
      ],
      "metadata": {
        "colab": {
          "base_uri": "https://localhost:8080/"
        },
        "id": "utmaO61XF25r",
        "outputId": "23a8076c-63b1-46d8-8540-c566737508be"
      },
      "execution_count": 19,
      "outputs": [
        {
          "output_type": "stream",
          "name": "stdout",
          "text": [
            "\n",
            "Revenue by Region:\n",
            "Region\n",
            "South America    219352.56\n",
            "Europe           166254.63\n",
            "North America    152313.40\n",
            "Asia             152074.97\n",
            "Name: TotalValue, dtype: float64\n"
          ]
        }
      ]
    },
    {
      "cell_type": "code",
      "source": [
        "# Top 10 customers by total spend\n",
        "top_customers = merged_data.groupby('CustomerID')['TotalValue'].sum().sort_values(ascending=False).head(10)\n",
        "print(\"\\nTop 10 Customers by Total Spend:\")\n",
        "print(top_customers)"
      ],
      "metadata": {
        "colab": {
          "base_uri": "https://localhost:8080/"
        },
        "id": "28jmOqY-F5-I",
        "outputId": "7743a50f-6010-432f-b6cd-4e76433e8406"
      },
      "execution_count": 20,
      "outputs": [
        {
          "output_type": "stream",
          "name": "stdout",
          "text": [
            "\n",
            "Top 10 Customers by Total Spend:\n",
            "CustomerID\n",
            "C0141    10673.87\n",
            "C0054     8040.39\n",
            "C0065     7663.70\n",
            "C0156     7634.45\n",
            "C0082     7572.91\n",
            "C0188     7111.32\n",
            "C0059     7073.28\n",
            "C0028     6819.57\n",
            "C0099     6715.72\n",
            "C0165     6708.10\n",
            "Name: TotalValue, dtype: float64\n"
          ]
        }
      ]
    },
    {
      "cell_type": "code",
      "source": [
        "# Top 10 products by quantity sold\n",
        "top_products = merged_data.groupby('ProductName')['Quantity'].sum().sort_values(ascending=False).head(10)\n",
        "print(\"\\nTop 10 Products by Quantity Sold:\")\n",
        "print(top_products)\n"
      ],
      "metadata": {
        "colab": {
          "base_uri": "https://localhost:8080/"
        },
        "id": "CFBo09iDF9Pl",
        "outputId": "e0f0c9d7-e4da-40fd-a985-8f57919afa5d"
      },
      "execution_count": 21,
      "outputs": [
        {
          "output_type": "stream",
          "name": "stdout",
          "text": [
            "\n",
            "Top 10 Products by Quantity Sold:\n",
            "ProductName\n",
            "ActiveWear Smartwatch    100\n",
            "SoundWave Headphones      97\n",
            "HomeSense Desk Lamp       81\n",
            "ActiveWear Rug            79\n",
            "SoundWave Cookbook        78\n",
            "ActiveWear Jacket         76\n",
            "BookWorld Biography       71\n",
            "TechPro T-Shirt           66\n",
            "SoundWave Desk Lamp       64\n",
            "TechPro Textbook          62\n",
            "Name: Quantity, dtype: int64\n"
          ]
        }
      ]
    },
    {
      "cell_type": "code",
      "source": [
        "# Revenue trend over time\n",
        "revenue_trend = merged_data.groupby('TransactionMonth')['TotalValue'].sum()\n",
        "print(\"\\nRevenue Trend Over Time:\")\n",
        "print(revenue_trend)\n"
      ],
      "metadata": {
        "colab": {
          "base_uri": "https://localhost:8080/"
        },
        "id": "dyM1XkSLGAp2",
        "outputId": "28c97e7a-c94f-462c-88ff-1305dfdf6b16"
      },
      "execution_count": 22,
      "outputs": [
        {
          "output_type": "stream",
          "name": "stdout",
          "text": [
            "\n",
            "Revenue Trend Over Time:\n",
            "TransactionMonth\n",
            "2023-12     3769.52\n",
            "2024-01    66376.39\n",
            "2024-02    51459.27\n",
            "2024-03    47828.73\n",
            "2024-04    57519.06\n",
            "2024-05    64527.74\n",
            "2024-06    48771.18\n",
            "2024-07    71366.39\n",
            "2024-08    63436.74\n",
            "2024-09    70603.75\n",
            "2024-10    47063.22\n",
            "2024-11    38224.37\n",
            "2024-12    59049.20\n",
            "Freq: M, Name: TotalValue, dtype: float64\n"
          ]
        }
      ]
    },
    {
      "cell_type": "code",
      "source": [
        "# Visualizations\n",
        "plt.figure(figsize=(12, 6))\n"
      ],
      "metadata": {
        "colab": {
          "base_uri": "https://localhost:8080/",
          "height": 52
        },
        "id": "Ezn_wH4sGFWG",
        "outputId": "63a2aea8-7034-40b9-82c5-0e4560acd472"
      },
      "execution_count": 23,
      "outputs": [
        {
          "output_type": "execute_result",
          "data": {
            "text/plain": [
              "<Figure size 1200x600 with 0 Axes>"
            ]
          },
          "metadata": {},
          "execution_count": 23
        },
        {
          "output_type": "display_data",
          "data": {
            "text/plain": [
              "<Figure size 1200x600 with 0 Axes>"
            ]
          },
          "metadata": {}
        }
      ]
    },
    {
      "cell_type": "code",
      "source": [
        "# Revenue by region\n",
        "plt.subplot(1, 2, 1)\n",
        "sns.barplot(x=revenue_by_region.index, y=revenue_by_region.values, palette='viridis')\n",
        "plt.title('Revenue by Region')\n",
        "plt.xticks(rotation=45)"
      ],
      "metadata": {
        "colab": {
          "base_uri": "https://localhost:8080/",
          "height": 714
        },
        "id": "vJXawU4iGIik",
        "outputId": "8f2e001e-810c-41dd-ffcf-9887bf84f310"
      },
      "execution_count": 24,
      "outputs": [
        {
          "output_type": "stream",
          "name": "stderr",
          "text": [
            "<ipython-input-24-6b3fe16bcea4>:3: FutureWarning: \n",
            "\n",
            "Passing `palette` without assigning `hue` is deprecated and will be removed in v0.14.0. Assign the `x` variable to `hue` and set `legend=False` for the same effect.\n",
            "\n",
            "  sns.barplot(x=revenue_by_region.index, y=revenue_by_region.values, palette='viridis')\n"
          ]
        },
        {
          "output_type": "execute_result",
          "data": {
            "text/plain": [
              "([0, 1, 2, 3],\n",
              " [Text(0, 0, 'South America'),\n",
              "  Text(1, 0, 'Europe'),\n",
              "  Text(2, 0, 'North America'),\n",
              "  Text(3, 0, 'Asia')])"
            ]
          },
          "metadata": {},
          "execution_count": 24
        },
        {
          "output_type": "display_data",
          "data": {
            "text/plain": [
              "<Figure size 640x480 with 1 Axes>"
            ],
            "image/png": "[encoded data removed]"
          },
          "metadata": {}
        }
      ]
    },
    {
      "cell_type": "code",
      "source": [
        "# Revenue trend over time\n",
        "plt.subplot(1, 2, 2)\n",
        "revenue_trend.plot(kind='line', marker='o', color='b')\n",
        "plt.title('Revenue Trend Over Time')\n",
        "plt.xlabel('Month')\n",
        "plt.ylabel('Revenue')\n",
        "\n",
        "plt.tight_layout()\n",
        "plt.show()\n"
      ],
      "metadata": {
        "colab": {
          "base_uri": "https://localhost:8080/",
          "height": 487
        },
        "id": "GG6FE3NwGNpU",
        "outputId": "f156086b-1a46-4fc3-ba68-2d1d2b7435d3"
      },
      "execution_count": 25,
      "outputs": [
        {
          "output_type": "display_data",
          "data": {
            "text/plain": [
              "<Figure size 640x480 with 1 Axes>"
            ],
            "image/png": "[encoded data removed]"
          },
          "metadata": {}
        }
      ]
    },
    {
      "cell_type": "code",
      "source": [
        "# Customer distribution by region\n",
        "plt.figure(figsize=(8, 5))\n",
        "sns.countplot(x='Region', data=customers, palette='Set2')\n",
        "plt.title('Customer Distribution by Region')\n",
        "plt.xticks(rotation=45)\n",
        "plt.show()"
      ],
      "metadata": {
        "colab": {
          "base_uri": "https://localhost:8080/",
          "height": 642
        },
        "id": "-PtDw6UOGS4P",
        "outputId": "63768a9c-4f8c-466d-b275-84ca9933a5f3"
      },
      "execution_count": 26,
      "outputs": [
        {
          "output_type": "stream",
          "name": "stderr",
          "text": [
            "<ipython-input-26-7a273c6741c6>:3: FutureWarning: \n",
            "\n",
            "Passing `palette` without assigning `hue` is deprecated and will be removed in v0.14.0. Assign the `x` variable to `hue` and set `legend=False` for the same effect.\n",
            "\n",
            "  sns.countplot(x='Region', data=customers, palette='Set2')\n"
          ]
        },
        {
          "output_type": "display_data",
          "data": {
            "text/plain": [
              "<Figure size 800x500 with 1 Axes>"
            ],
            "image/png": "[encoded data removed]"
          },
          "metadata": {}
        }
      ]
    },
    {
      "cell_type": "code",
      "source": [
        "\n",
        "# Product category distribution\n",
        "plt.figure(figsize=(8, 5))\n",
        "sns.countplot(x='Category', data=products, palette='Set3')\n",
        "plt.title('Product Category Distribution')\n",
        "plt.xticks(rotation=45)\n",
        "plt.show()"
      ],
      "metadata": {
        "colab": {
          "base_uri": "https://localhost:8080/",
          "height": 631
        },
        "id": "jS3fgoNvGW0k",
        "outputId": "12f444af-5c2f-4985-899d-3027b1171893"
      },
      "execution_count": 27,
      "outputs": [
        {
          "output_type": "stream",
          "name": "stderr",
          "text": [
            "<ipython-input-27-4f45c01cabf7>:3: FutureWarning: \n",
            "\n",
            "Passing `palette` without assigning `hue` is deprecated and will be removed in v0.14.0. Assign the `x` variable to `hue` and set `legend=False` for the same effect.\n",
            "\n",
            "  sns.countplot(x='Category', data=products, palette='Set3')\n"
          ]
        },
        {
          "output_type": "display_data",
          "data": {
            "text/plain": [
              "<Figure size 800x500 with 1 Axes>"
            ],
            "image/png": "[encoded data removed]"
          },
          "metadata": {}
        }
      ]
    },
    {
      "cell_type": "code",
      "source": [
        "# Feature Engineering\n",
        "# Create customer profiles based on their transaction history\n",
        "customer_features = merged_data.groupby('CustomerID').agg(\n",
        "    total_spend=('TotalValue', 'sum'),  # Total spend by customer\n",
        "    avg_order_value=('TotalValue', 'mean'),  # Average order value\n",
        "    purchase_frequency=('TransactionID', 'count'),  # Number of transactions\n",
        "    favorite_category=('Category', lambda x: x.mode()[0])  # Most purchased category\n",
        ").reset_index()"
      ],
      "metadata": {
        "id": "Ope28xqsGwS7"
      },
      "execution_count": 28,
      "outputs": []
    },
    {
      "cell_type": "code",
      "source": [
        "# Add customer profile information (Region and SignupDate)\n",
        "customer_features = pd.merge(customer_features, customers[['CustomerID', 'Region', 'SignupDate']], on='CustomerID', how='left')"
      ],
      "metadata": {
        "id": "Mb2ycJe9Gzo9"
      },
      "execution_count": 29,
      "outputs": []
    },
    {
      "cell_type": "code",
      "source": [
        "# Convert SignupDate to tenure (days since signup)\n",
        "customer_features['SignupDate'] = pd.to_datetime(customer_features['SignupDate'])\n",
        "customer_features['Tenure'] = (pd.Timestamp.now() - customer_features['SignupDate']).dt.days"
      ],
      "metadata": {
        "id": "08qZlQm4G3H9"
      },
      "execution_count": 30,
      "outputs": []
    },
    {
      "cell_type": "code",
      "source": [
        "# Encode categorical features (Region and favorite_category)\n",
        "customer_features = pd.get_dummies(customer_features, columns=['Region', 'favorite_category'], drop_first=True)\n"
      ],
      "metadata": {
        "id": "fBw8szs8G6KU"
      },
      "execution_count": 31,
      "outputs": []
    },
    {
      "cell_type": "code",
      "source": [
        "from sklearn.preprocessing import StandardScaler\n",
        "from sklearn.metrics.pairwise import cosine_similarity\n",
        "from sklearn.cluster import KMeans\n",
        "from sklearn.metrics import davies_bouldin_score, silhouette_score\n",
        "from sklearn.decomposition import PCA"
      ],
      "metadata": {
        "id": "jsLGPQlOHDBn"
      },
      "execution_count": 32,
      "outputs": []
    },
    {
      "cell_type": "code",
      "source": [
        "# Normalize numerical features\n",
        "scaler = StandardScaler()\n",
        "numerical_features = ['total_spend', 'avg_order_value', 'purchase_frequency', 'Tenure']\n",
        "customer_features[numerical_features] = scaler.fit_transform(customer_features[numerical_features])"
      ],
      "metadata": {
        "id": "d5QWJPkAG9jD"
      },
      "execution_count": 33,
      "outputs": []
    },
    {
      "cell_type": "code",
      "source": [
        "# Ensure all columns are numerical\n",
        "customer_features = customer_features.select_dtypes(include=[np.number])"
      ],
      "metadata": {
        "id": "dDdJ47PaILYj"
      },
      "execution_count": 34,
      "outputs": []
    },
    {
      "cell_type": "code",
      "source": [
        "# Compute similarity matrix using cosine similarity\n",
        "similarity_matrix = cosine_similarity(customer_features)"
      ],
      "metadata": {
        "id": "WTGbHPlLIQAf"
      },
      "execution_count": 35,
      "outputs": []
    },
    {
      "cell_type": "code",
      "source": [
        "# Create a DataFrame for similarity scores\n",
        "similarity_df = pd.DataFrame(similarity_matrix, index=customer_features.index, columns=customer_features.index)"
      ],
      "metadata": {
        "id": "fYRy_WsEIVXL"
      },
      "execution_count": 36,
      "outputs": []
    },
    {
      "cell_type": "code",
      "source": [
        "# Function to get top 3 lookalikes for a given customer\n",
        "def get_top_lookalikes(customer_id, similarity_df, top_n=3):\n",
        "    # Get similarity scores for the given customer\n",
        "    similarities = similarity_df[customer_id].sort_values(ascending=False)\n",
        "    # Exclude the customer itself\n",
        "    similarities = similarities[similarities.index != customer_id]\n",
        "    # Return top N lookalikes with scores\n",
        "    return similarities.head(top_n).reset_index().values.tolist()\n"
      ],
      "metadata": {
        "id": "Eogh1hxTIaKv"
      },
      "execution_count": 37,
      "outputs": []
    },
    {
      "cell_type": "code",
      "source": [
        "# Generate lookalikes for the first 20 customers (C0001 - C0020)\n",
        "lookalike_map = {}\n",
        "for customer_id in customer_features.index[:20]:\n",
        "    lookalikes = get_top_lookalikes(customer_id, similarity_df)\n",
        "    lookalike_map[customer_id] = lookalikes"
      ],
      "metadata": {
        "id": "zF20O_7QIdkT"
      },
      "execution_count": 38,
      "outputs": []
    },
    {
      "cell_type": "code",
      "source": [
        "# Save results to Lookalike.csv\n",
        "lookalike_df = pd.DataFrame.from_dict(lookalike_map, orient='index')\n",
        "lookalike_df = lookalike_df.explode(0).reset_index()\n",
        "\n",
        "# Ensure all values in the '0' column are lists\n",
        "lookalike_df[0] = lookalike_df[0].apply(lambda x: x if isinstance(x, list) else [np.nan, np.nan])\n",
        "\n",
        "# Split the list column into two separate columns\n",
        "lookalike_df[['LookalikeID', 'SimilarityScore']] = pd.DataFrame(\n",
        "    lookalike_df[0].tolist(),\n",
        "    index=lookalike_df.index\n",
        ")\n",
        "\n",
        "# Drop rows with NaN values (if any)\n",
        "lookalike_df.dropna(subset=['LookalikeID', 'SimilarityScore'], inplace=True)\n",
        "\n",
        "# Rename columns\n",
        "lookalike_df = lookalike_df[['index', 'LookalikeID', 'SimilarityScore']]\n",
        "lookalike_df.columns = ['CustomerID', 'LookalikeID', 'SimilarityScore']\n",
        "\n",
        "# Save to CSV\n",
        "lookalike_df.to_csv('Lookalike.csv', index=False)\n",
        "\n",
        "# Display the Lookalike.csv\n",
        "print(lookalike_df.head(10))"
      ],
      "metadata": {
        "colab": {
          "base_uri": "https://localhost:8080/"
        },
        "id": "JKEI0omLIhOE",
        "outputId": "27580f06-dbf2-423c-bc4b-0e0858e35f0d"
      },
      "execution_count": 39,
      "outputs": [
        {
          "output_type": "stream",
          "name": "stdout",
          "text": [
            "Empty DataFrame\n",
            "Columns: [CustomerID, LookalikeID, SimilarityScore]\n",
            "Index: []\n"
          ]
        }
      ]
    },
    {
      "cell_type": "code",
      "source": [
        "print(customer_features.head())"
      ],
      "metadata": {
        "colab": {
          "base_uri": "https://localhost:8080/"
        },
        "id": "OnA-lASpMKMe",
        "outputId": "2459479d-8474-4c79-d437-79cdb775e76a"
      },
      "execution_count": 40,
      "outputs": [
        {
          "output_type": "stream",
          "name": "stdout",
          "text": [
            "   total_spend  avg_order_value  purchase_frequency    Tenure\n",
            "0    -0.061701        -0.070263           -0.011458  1.148752\n",
            "1    -0.877744        -0.934933           -0.467494  1.600431\n",
            "2    -0.405857        -0.026271           -0.467494 -0.713270\n",
            "3     1.032547        -0.076769            1.356650  0.869141\n",
            "4    -0.783929        -0.040028           -0.923530  1.038137\n"
          ]
        }
      ]
    },
    {
      "cell_type": "code",
      "source": [
        "print(similarity_matrix[:5, :5])  # Print a small portion of the matrix\n",
        "print(np.sum(similarity_matrix, axis=1))  # Check row sums\n"
      ],
      "metadata": {
        "colab": {
          "base_uri": "https://localhost:8080/"
        },
        "id": "wegLbLBdMVJU",
        "outputId": "b2c60d44-e932-4a68-cfe0-b30941e2a902"
      },
      "execution_count": 41,
      "outputs": [
        {
          "output_type": "stream",
          "name": "stdout",
          "text": [
            "[[ 1.          0.80996075 -0.72277974  0.41883697  0.6819187 ]\n",
            " [ 0.80996075  1.         -0.27281199 -0.01930326  0.83970395]\n",
            " [-0.72277974 -0.27281199  1.         -0.92355386  0.00695529]\n",
            " [ 0.41883697 -0.01930326 -0.92355386  1.         -0.37854861]\n",
            " [ 0.6819187   0.83970395  0.00695529 -0.37854861  1.        ]]\n",
            "[-1.75838651  1.69114974  4.36848249 -4.34061699  1.69918115 -2.30774319\n",
            " -0.56728487 -0.4770227   5.13941199  3.82427482 -3.73827251 -2.07952711\n",
            " -3.62005633  5.32451721  4.94295001 -1.20509929 -1.95146806 -1.73385006\n",
            "  2.81182357  3.17306254 -4.16423217 -4.18033626 -5.04819889  1.13854292\n",
            "  2.91074729  0.18377969  1.64812585 -3.71587508  2.16255985  5.09466608\n",
            "  5.52235099  5.43641547  5.29057045  2.95469132  4.10287341  4.90665727\n",
            " -5.01758746  0.28444802  0.17905388 -3.13921139 -4.53818021  1.5077042\n",
            "  4.4431243   0.03818085 -5.37835014 -2.27212427  2.85864325  0.89859907\n",
            "  3.09608094  0.10600656 -4.25869403  5.19128998 -5.42797104 -4.02068293\n",
            "  3.76829064  3.5425707  -1.08923293  5.17681582 -4.22209241  3.72768279\n",
            "  2.74806214  3.63950395  4.47356028 -3.11108222 -3.53124988 -0.83905341\n",
            " -3.9202769  -4.79475826  5.07491899 -1.70002999  2.99470336  3.75799706\n",
            "  1.63779978 -1.90529706 -3.82690757  5.1273156   5.27042047  2.8656354\n",
            " -3.76762993  2.42950712  1.87232718 -5.77393575  3.3845695  -0.02658491\n",
            "  2.39990736  1.05141215 -4.24087217  4.2685     -0.14949005 -1.19958407\n",
            "  1.21052737  2.79167761 -1.5274582   5.14048002  3.69613635 -5.01748283\n",
            "  5.09862746  2.17871316 -5.35475599 -5.73115682 -3.73944625 -5.13645222\n",
            "  1.05190249 -5.28028979 -1.10524094  0.37459997 -3.51353636 -4.54045878\n",
            " -2.94335018  3.14478249  4.82561088  1.70764072 -3.50058169 -2.69762784\n",
            "  0.6395803   3.7295901  -0.42068683 -1.64327109  4.92238705  0.7954331\n",
            "  4.94333623 -4.647822    4.23437225  0.17672325 -0.15830622 -2.58122705\n",
            "  2.9489682   4.84294122  3.41829306  4.09107888  1.56933119  3.51977765\n",
            "  1.24624683  0.09169211 -1.46490887 -1.43690797  2.8588302  -2.6163455\n",
            " -1.51486505  1.52605673 -5.40021441  5.55296806 -3.61451898  4.6956287\n",
            " -4.764682    4.23078031 -0.11298284 -4.85420915 -5.04489436  3.36137015\n",
            "  5.34506919 -1.94057711 -4.63540401  1.73244766 -5.23705403 -3.96174177\n",
            "  5.11799544 -2.75551931  1.50858923 -0.44685207 -0.52451464 -3.4754001\n",
            " -5.40593895  3.57334566 -4.91459585  0.41355246  3.53674511 -4.05093994\n",
            " -5.53520313 -4.30331061 -5.06492271  4.29790617 -4.86662115  0.9240546\n",
            " -4.02938417 -0.03569517  4.73233123  4.75935146 -2.05459861  2.33618603\n",
            " -1.57804473 -0.79852519 -0.99513396 -1.34763093  5.12805745 -1.70121542\n",
            " -5.56577205  5.07240758  4.00094801  4.20258337  2.6310501  -0.00994802\n",
            "  0.79089699  0.68203842 -4.189125    3.65721447  2.72164487  3.44855005\n",
            " -4.75319142]\n"
          ]
        }
      ]
    },
    {
      "cell_type": "code",
      "source": [
        "print(customer_features.columns)"
      ],
      "metadata": {
        "colab": {
          "base_uri": "https://localhost:8080/"
        },
        "id": "-50L5n-lNGlC",
        "outputId": "af156748-de4a-446b-e115-09ee12675083"
      },
      "execution_count": 42,
      "outputs": [
        {
          "output_type": "stream",
          "name": "stdout",
          "text": [
            "Index(['total_spend', 'avg_order_value', 'purchase_frequency', 'Tenure'], dtype='object')\n"
          ]
        }
      ]
    },
    {
      "cell_type": "code",
      "source": [
        "customer_features = merged_data.groupby('CustomerID').agg(\n",
        "    total_spend=('TotalValue', 'sum'),  # Total spend by customer\n",
        "    avg_order_value=('TotalValue', 'mean'),  # Average order value\n",
        "    purchase_frequency=('TransactionID', 'count'),  # Number of transactions\n",
        "    favorite_category=('Category', lambda x: x.mode()[0])  # Most purchased category\n",
        ").reset_index()"
      ],
      "metadata": {
        "id": "2V5h3XdINSWf"
      },
      "execution_count": 43,
      "outputs": []
    },
    {
      "cell_type": "code",
      "source": [
        "similarity_df = pd.DataFrame(similarity_matrix,\n",
        "                              index=customer_features['CustomerID'],\n",
        "                              columns=customer_features['CustomerID'])\n",
        "print(similarity_df.head())"
      ],
      "metadata": {
        "colab": {
          "base_uri": "https://localhost:8080/"
        },
        "id": "iEhq3hJ5N4U2",
        "outputId": "52fd7202-6137-4582-aadf-25bc1dd1e77c"
      },
      "execution_count": 44,
      "outputs": [
        {
          "output_type": "stream",
          "name": "stdout",
          "text": [
            "CustomerID     C0001     C0002     C0003     C0004     C0005     C0006  \\\n",
            "CustomerID                                                               \n",
            "C0001       1.000000  0.809961 -0.722780  0.418837  0.681919 -0.363713   \n",
            "C0002       0.809961  1.000000 -0.272812 -0.019303  0.839704 -0.661732   \n",
            "C0003      -0.722780 -0.272812  1.000000 -0.923554  0.006955  0.232396   \n",
            "C0004       0.418837 -0.019303 -0.923554  1.000000 -0.378549 -0.232769   \n",
            "C0005       0.681919  0.839704  0.006955 -0.378549  1.000000 -0.180172   \n",
            "\n",
            "CustomerID     C0007     C0008     C0009     C0010  ...     C0191     C0192  \\\n",
            "CustomerID                                          ...                       \n",
            "C0001       0.683856 -0.200575  0.044383  0.471628  ... -0.830980  0.693724   \n",
            "C0002       0.574359 -0.235681  0.621006  0.898092  ... -0.368004  0.982461   \n",
            "C0003      -0.155132 -0.331716  0.496798  0.103566  ...  0.795626 -0.089651   \n",
            "C0004      -0.223398  0.626827 -0.588721 -0.302626  ... -0.538530 -0.192828   \n",
            "C0005       0.878690 -0.710043  0.516761  0.722250  ... -0.414658  0.860844   \n",
            "\n",
            "CustomerID     C0193     C0194     C0195     C0196     C0197     C0198  \\\n",
            "CustomerID                                                               \n",
            "C0001       0.649272 -0.622021 -0.931973  0.375804  0.328808  0.635804   \n",
            "C0002       0.605433 -0.510415 -0.843755 -0.118845  0.699283  0.931166   \n",
            "C0003      -0.068048  0.105794  0.448657 -0.400937  0.414596  0.048189   \n",
            "C0004      -0.313424  0.266480 -0.076812  0.208215 -0.709063 -0.367443   \n",
            "C0005       0.915598 -0.849793 -0.888352  0.218348  0.905782  0.942682   \n",
            "\n",
            "CustomerID     C0199     C0200  \n",
            "CustomerID                      \n",
            "C0001       0.558224  0.007867  \n",
            "C0002       0.938364 -0.527728  \n",
            "C0003       0.052625 -0.314755  \n",
            "C0004      -0.294513  0.287831  \n",
            "C0005       0.804298 -0.221096  \n",
            "\n",
            "[5 rows x 199 columns]\n"
          ]
        }
      ]
    },
    {
      "cell_type": "code",
      "source": [
        "for customer_id in customer_features['CustomerID'].unique()[:5]:\n",
        "    lookalikes = get_top_lookalikes(customer_id, similarity_df)\n",
        "    print(f\"Customer: {customer_id}, Lookalikes: {lookalikes}\")"
      ],
      "metadata": {
        "colab": {
          "base_uri": "https://localhost:8080/"
        },
        "id": "iqZ2_fNUNVG2",
        "outputId": "d2601889-bb30-4905-a6c1-6361ddcb318e"
      },
      "execution_count": 45,
      "outputs": [
        {
          "output_type": "stream",
          "name": "stdout",
          "text": [
            "Customer: C0001, Lookalikes: [['C0152', 0.9993185557953671], ['C0160', 0.9646622803398666], ['C0118', 0.9416425874949189]]\n",
            "Customer: C0002, Lookalikes: [['C0029', 0.9955513590865488], ['C0192', 0.9824606718770172], ['C0086', 0.9719439019453344]]\n",
            "Customer: C0003, Lookalikes: [['C0036', 0.9807756633543862], ['C0177', 0.9767476899003709], ['C0144', 0.975820508679136]]\n",
            "Customer: C0004, Lookalikes: [['C0175', 0.9969460924622949], ['C0173', 0.9880005077624013], ['C0165', 0.9855822114426875]]\n",
            "Customer: C0005, Lookalikes: [['C0073', 0.9997021390313776], ['C0159', 0.999215291935641], ['C0112', 0.9970747875356132]]\n"
          ]
        }
      ]
    },
    {
      "cell_type": "code",
      "source": [
        "# Define the function to get top N lookalikes for a given customer\n",
        "def get_top_lookalikes(customer_id, similarity_df, top_n=3):\n",
        "    # Get similarity scores for the given customer\n",
        "    similarities = similarity_df[customer_id].sort_values(ascending=False)\n",
        "    # Exclude the customer itself\n",
        "    similarities = similarities[similarities.index != customer_id]\n",
        "    # Return top N lookalikes with scores\n",
        "    return similarities.head(top_n).reset_index().values.tolist()\n",
        "\n",
        "# Generate lookalikes for the first 20 customers\n",
        "lookalike_map = {}\n",
        "for customer_id in customer_features['CustomerID'].unique()[:20]:  # Get first 20 customers\n",
        "    lookalikes = get_top_lookalikes(customer_id, similarity_df)\n",
        "    lookalike_map[customer_id] = lookalikes\n",
        "\n",
        "# Debugging Step: Check the lookalike_map\n",
        "print(\"Lookalike Map Sample:\")\n",
        "print(list(lookalike_map.items())[:5])  # Print the first 5 entries for debugging\n",
        "\n",
        "# Create a DataFrame from the dictionary\n",
        "lookalike_df = pd.DataFrame.from_dict(lookalike_map, orient='index')\n",
        "\n",
        "# Explode nested lists into rows\n",
        "lookalike_df = lookalike_df.stack().reset_index(level=1, drop=True).reset_index()\n",
        "\n",
        "# Debugging Step: Check intermediate DataFrame\n",
        "print(\"Exploded DataFrame Sample:\")\n",
        "print(lookalike_df.head())\n",
        "\n",
        "# Ensure all values in the column are lists and split them into separate columns\n",
        "lookalike_df[0] = lookalike_df[0].apply(lambda x: x if isinstance(x, list) else [np.nan, np.nan])\n",
        "lookalike_df[['LookalikeID', 'SimilarityScore']] = pd.DataFrame(\n",
        "    lookalike_df[0].tolist(), index=lookalike_df.index\n",
        ")\n",
        "\n",
        "# Drop rows with NaN values\n",
        "lookalike_df.dropna(subset=['LookalikeID', 'SimilarityScore'], inplace=True)\n",
        "\n",
        "# Rename columns\n",
        "lookalike_df = lookalike_df[['index', 'LookalikeID', 'SimilarityScore']]\n",
        "lookalike_df.columns = ['CustomerID', 'LookalikeID', 'SimilarityScore']\n",
        "\n",
        "# Save results to CSV\n",
        "lookalike_df.to_csv('Lookalike.csv', index=False)\n",
        "\n",
        "# Display a sample of the final DataFrame\n",
        "print(\"Final Lookalike DataFrame:\")\n",
        "print(lookalike_df.head(10))\n"
      ],
      "metadata": {
        "colab": {
          "base_uri": "https://localhost:8080/"
        },
        "id": "Qk8uByapOR3X",
        "outputId": "1a3d65c8-c762-4ca2-fbe3-297bafc1e9bb"
      },
      "execution_count": 46,
      "outputs": [
        {
          "output_type": "stream",
          "name": "stdout",
          "text": [
            "Lookalike Map Sample:\n",
            "[('C0001', [['C0152', 0.9993185557953671], ['C0160', 0.9646622803398666], ['C0118', 0.9416425874949189]]), ('C0002', [['C0029', 0.9955513590865488], ['C0192', 0.9824606718770172], ['C0086', 0.9719439019453344]]), ('C0003', [['C0036', 0.9807756633543862], ['C0177', 0.9767476899003709], ['C0144', 0.975820508679136]]), ('C0004', [['C0175', 0.9969460924622949], ['C0173', 0.9880005077624013], ['C0165', 0.9855822114426875]]), ('C0005', [['C0073', 0.9997021390313776], ['C0159', 0.999215291935641], ['C0112', 0.9970747875356132]])]\n",
            "Exploded DataFrame Sample:\n",
            "   index                            0\n",
            "0  C0001  [C0152, 0.9993185557953671]\n",
            "1  C0001  [C0160, 0.9646622803398666]\n",
            "2  C0001  [C0118, 0.9416425874949189]\n",
            "3  C0002  [C0029, 0.9955513590865488]\n",
            "4  C0002  [C0192, 0.9824606718770172]\n",
            "Final Lookalike DataFrame:\n",
            "  CustomerID LookalikeID  SimilarityScore\n",
            "0      C0001       C0152         0.999319\n",
            "1      C0001       C0160         0.964662\n",
            "2      C0001       C0118         0.941643\n",
            "3      C0002       C0029         0.995551\n",
            "4      C0002       C0192         0.982461\n",
            "5      C0002       C0086         0.971944\n",
            "6      C0003       C0036         0.980776\n",
            "7      C0003       C0177         0.976748\n",
            "8      C0003       C0144         0.975821\n",
            "9      C0004       C0175         0.996946\n"
          ]
        }
      ]
    },
    {
      "cell_type": "code",
      "source": [
        "# Step 1: Perform K-Means Clustering\n",
        "# Decide on the number of clusters (let's start with 4 as an example)\n",
        "numerical_features = ['total_spend', 'avg_order_value', 'purchase_frequency']\n",
        "\n",
        "kmeans = KMeans(n_clusters=4, random_state=42)\n",
        "customer_features['Cluster'] = kmeans.fit_predict(customer_features[numerical_features])"
      ],
      "metadata": {
        "id": "TsgzvLSvmnzr"
      },
      "execution_count": 55,
      "outputs": []
    },
    {
      "cell_type": "code",
      "source": [
        "\n",
        "db_index = davies_bouldin_score(customer_features[numerical_features], customer_features['Cluster'])\n",
        "print(f\"Davies-Bouldin Index: {db_index}\")"
      ],
      "metadata": {
        "colab": {
          "base_uri": "https://localhost:8080/"
        },
        "id": "xWpfT74Ip--s",
        "outputId": "8ba49f81-1a88-494f-c044-858d88260042"
      },
      "execution_count": 57,
      "outputs": [
        {
          "output_type": "stream",
          "name": "stdout",
          "text": [
            "Davies-Bouldin Index: 0.6022910408086608\n"
          ]
        }
      ]
    },
    {
      "cell_type": "code",
      "source": [
        "silhouette = silhouette_score(customer_features[numerical_features], customer_features['Cluster'])\n",
        "print(f\"Silhouette Score: {silhouette}\")"
      ],
      "metadata": {
        "colab": {
          "base_uri": "https://localhost:8080/"
        },
        "id": "3_uNPVwAqcEn",
        "outputId": "c796f3ab-78d5-42f7-fd54-c68487841d91"
      },
      "execution_count": 58,
      "outputs": [
        {
          "output_type": "stream",
          "name": "stdout",
          "text": [
            "Silhouette Score: 0.49625883499054974\n"
          ]
        }
      ]
    },
    {
      "cell_type": "code",
      "source": [
        "# Step 3: PCA for Visualization (Reduce to 2D for easier plotting)\n",
        "pca = PCA(n_components=2, random_state=42)\n",
        "reduced_data = pca.fit_transform(customer_features[numerical_features])\n",
        "customer_features['PCA1'], customer_features['PCA2'] = reduced_data[:, 0], reduced_data[:, 1]"
      ],
      "metadata": {
        "id": "2WaqYR5GqiD4"
      },
      "execution_count": 59,
      "outputs": []
    },
    {
      "cell_type": "code",
      "source": [
        "# Step 4: Visualize Clusters\n",
        "plt.figure(figsize=(10, 6))\n",
        "sns.scatterplot(data=customer_features, x='PCA1', y='PCA2', hue='Cluster', palette='tab10', s=100)\n",
        "plt.title('Customer Segments (K-Means Clustering)')\n",
        "plt.xlabel('Principal Component 1')\n",
        "plt.ylabel('Principal Component 2')\n",
        "plt.legend(title='Cluster')\n",
        "plt.grid(True)\n",
        "plt.show()"
      ],
      "metadata": {
        "colab": {
          "base_uri": "https://localhost:8080/",
          "height": 564
        },
        "id": "DjXFFL71qnyR",
        "outputId": "3d8e7926-b5cd-4abd-a47f-f788b0396863"
      },
      "execution_count": 60,
      "outputs": [
        {
          "output_type": "display_data",
          "data": {
            "text/plain": [
              "<Figure size 1000x600 with 1 Axes>"
            ],
            "image/png": "[encoded data removed]"
          },
          "metadata": {}
        }
      ]
    }
  ]
}